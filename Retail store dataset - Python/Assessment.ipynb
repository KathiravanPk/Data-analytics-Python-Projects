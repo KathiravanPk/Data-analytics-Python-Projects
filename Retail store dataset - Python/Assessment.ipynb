{
 "cells": [
  {
   "cell_type": "code",
   "execution_count": 1,
   "id": "c95cf7a2-79ae-4a0d-8f7e-46ae956e8ef4",
   "metadata": {},
   "outputs": [
    {
     "name": "stdout",
     "output_type": "stream",
     "text": [
      "<class 'pandas.core.frame.DataFrame'>\n",
      "RangeIndex: 50 entries, 0 to 49\n",
      "Data columns (total 9 columns):\n",
      " #   Column            Non-Null Count  Dtype \n",
      "---  ------            --------------  ----- \n",
      " 0   Transaction_ID    50 non-null     int64 \n",
      " 1   Date              50 non-null     object\n",
      " 2   Product_Category  50 non-null     object\n",
      " 3   Product_Name      50 non-null     object\n",
      " 4   Unit_Price        50 non-null     int64 \n",
      " 5   Quantity          50 non-null     int64 \n",
      " 6   Customer_Age      50 non-null     int64 \n",
      " 7   Customer_Gender   50 non-null     object\n",
      " 8   Sales_Channel     50 non-null     object\n",
      "dtypes: int64(4), object(5)\n",
      "memory usage: 3.6+ KB\n"
     ]
    },
    {
     "data": {
      "text/plain": [
       "Transaction_ID      0\n",
       "Date                0\n",
       "Product_Category    0\n",
       "Product_Name        0\n",
       "Unit_Price          0\n",
       "Quantity            0\n",
       "Customer_Age        0\n",
       "Customer_Gender     0\n",
       "Sales_Channel       0\n",
       "dtype: int64"
      ]
     },
     "execution_count": 1,
     "metadata": {},
     "output_type": "execute_result"
    }
   ],
   "source": [
    "import numpy as np\n",
    "import pandas as pd\n",
    "import matplotlib.pyplot as plt\n",
    "\n",
    "\n",
    "# read dataset\n",
    "df = pd.read_excel('Case Study_Junior Data Analyst.xls')\n",
    "df\n",
    "df.sample()\n",
    "df.head(3)\n",
    "\n",
    "# understand the dataset\n",
    "df.shape\n",
    "df.dtypes\n",
    "df.columns\n",
    "df.info()\n",
    "\n",
    "# check for missing values\n",
    "df.isnull().sum()"
   ]
  },
  {
   "cell_type": "code",
   "execution_count": 29,
   "id": "50e96d0b-14d1-4072-ae33-d182b39cdbc0",
   "metadata": {},
   "outputs": [
    {
     "data": {
      "text/plain": [
       "Product_Category\n",
       "Electronics        17\n",
       "Home Appliances    17\n",
       "Fashion            16\n",
       "Name: count, dtype: int64"
      ]
     },
     "execution_count": 29,
     "metadata": {},
     "output_type": "execute_result"
    }
   ],
   "source": [
    "# convert unnecessary entriesinto valid entries in Product_category\n",
    "df['Product_Category'].value_counts()\n",
    "df['Product_Category'] = df['Product_Category'].replace(to_replace=['Electranics','Faxhion','Home Appllances'],value=['Electronics','Fashion','Home Appliances'])\n",
    "df['Product_Category'].value_counts()"
   ]
  },
  {
   "cell_type": "code",
   "execution_count": 40,
   "id": "c10d00c2-f7cc-4ec8-b4a8-c9087ccbee79",
   "metadata": {},
   "outputs": [
    {
     "data": {
      "text/plain": [
       "50"
      ]
     },
     "execution_count": 40,
     "metadata": {},
     "output_type": "execute_result"
    }
   ],
   "source": [
    "# check for duplicate values\n",
    "df['Transaction_ID'].duplicated().sum()\n",
    "df['Date'].duplicated().sum()\n",
    "df['Product_Name'].value_counts()"
   ]
  },
  {
   "cell_type": "code",
   "execution_count": 45,
   "id": "f4c84299-e519-46ce-8dc7-08c6b865d514",
   "metadata": {},
   "outputs": [
    {
     "data": {
      "text/plain": [
       "Customer_Gender\n",
       "Female    32\n",
       "Male      18\n",
       "Name: count, dtype: int64"
      ]
     },
     "execution_count": 45,
     "metadata": {},
     "output_type": "execute_result"
    }
   ],
   "source": [
    "# convert unnecessary entriesinto valid entries in Customer_gender\n",
    "df['Customer_Gender'].value_counts()\n",
    "df['Customer_Gender'] = df['Customer_Gender'].replace({'Man':'Male','Femele':'Female','Famale':'Female','Maie':'Male','Femle':'Female'})\n",
    "df['Customer_Gender'].value_counts()"
   ]
  },
  {
   "cell_type": "code",
   "execution_count": 46,
   "id": "12c0b60f-f543-4630-a147-0c43b5c7ccab",
   "metadata": {},
   "outputs": [
    {
     "data": {
      "text/plain": [
       "Sales_Channel\n",
       "Online      28\n",
       "In-store    22\n",
       "Name: count, dtype: int64"
      ]
     },
     "execution_count": 46,
     "metadata": {},
     "output_type": "execute_result"
    }
   ],
   "source": [
    "df['Sales_Channel'].value_counts()"
   ]
  },
  {
   "cell_type": "code",
   "execution_count": 3,
   "id": "f55a62f3-2116-4278-97c9-aa34a1868009",
   "metadata": {},
   "outputs": [
    {
     "data": {
      "text/plain": [
       "0     2400\n",
       "1      800\n",
       "2      300\n",
       "3      900\n",
       "4     1200\n",
       "5      250\n",
       "6      150\n",
       "7      150\n",
       "8      160\n",
       "9      300\n",
       "10     200\n",
       "11      80\n",
       "12     300\n",
       "13      80\n",
       "14     300\n",
       "15     200\n",
       "16      60\n",
       "17      75\n",
       "18     100\n",
       "19      80\n",
       "20      40\n",
       "21     500\n",
       "22      60\n",
       "23      30\n",
       "24     400\n",
       "25     140\n",
       "26     120\n",
       "27      80\n",
       "28      50\n",
       "29      75\n",
       "30    1000\n",
       "31      50\n",
       "32     200\n",
       "33      60\n",
       "34      30\n",
       "35     120\n",
       "36      80\n",
       "37      50\n",
       "38      70\n",
       "39      50\n",
       "40      20\n",
       "41      80\n",
       "42      30\n",
       "43     120\n",
       "44      45\n",
       "45      40\n",
       "46      70\n",
       "47      60\n",
       "48      45\n",
       "49      80\n",
       "Name: Sale Price, dtype: int64"
      ]
     },
     "execution_count": 3,
     "metadata": {},
     "output_type": "execute_result"
    }
   ],
   "source": [
    "# Sales column\n",
    "df['Sale Price'] = df['Unit_Price'] * df['Quantity']\n",
    "df['Sale Price']"
   ]
  },
  {
   "cell_type": "code",
   "execution_count": null,
   "id": "281b6b8d-f62e-46ed-b7bf-70727c4d9711",
   "metadata": {},
   "outputs": [],
   "source": [
    "# corrected dataset\n",
    "df"
   ]
  },
  {
   "cell_type": "code",
   "execution_count": null,
   "id": "27599639-7d2f-4b5b-9764-50060926abde",
   "metadata": {},
   "outputs": [],
   "source": []
  }
 ],
 "metadata": {
  "kernelspec": {
   "display_name": "Python 3 (ipykernel)",
   "language": "python",
   "name": "python3"
  },
  "language_info": {
   "codemirror_mode": {
    "name": "ipython",
    "version": 3
   },
   "file_extension": ".py",
   "mimetype": "text/x-python",
   "name": "python",
   "nbconvert_exporter": "python",
   "pygments_lexer": "ipython3",
   "version": "3.11.7"
  }
 },
 "nbformat": 4,
 "nbformat_minor": 5
}
