{
 "cells": [
  {
   "cell_type": "markdown",
   "id": "b2856eed-6a80-4a54-9d60-e171d96ef1e1",
   "metadata": {},
   "source": [
    "#### 1 . Libraries required"
   ]
  },
  {
   "cell_type": "code",
   "execution_count": null,
   "id": "827b717f-05a6-4c4b-8c62-30e300ffacac",
   "metadata": {},
   "outputs": [],
   "source": [
    "import numpy as np\n",
    "import pandas as pd\n",
    "import matplotlib.pyplot as plt\n",
    "import seaborn as sns"
   ]
  },
  {
   "cell_type": "code",
   "execution_count": null,
   "id": "26cd3fce-7dd9-48d8-8306-947389297a5b",
   "metadata": {},
   "outputs": [],
   "source": [
    "df = pd.read_csv('youtube_dislike_dataset.csv')\n",
    "df"
   ]
  },
  {
   "cell_type": "code",
   "execution_count": null,
   "id": "e1b0cb6e-8c88-4b26-9976-98aca9be9837",
   "metadata": {},
   "outputs": [],
   "source": [
    "# colummns of the dataframe\n",
    "df.columns"
   ]
  },
  {
   "cell_type": "markdown",
   "id": "e115b66e-9973-4057-8587-100e80d18b05",
   "metadata": {},
   "source": [
    "#### Top 5 and Bottom 5 records\r"
   ]
  },
  {
   "cell_type": "code",
   "execution_count": null,
   "id": "bf539cd4-50a0-49f8-9d4b-ca370d1f2c25",
   "metadata": {},
   "outputs": [],
   "source": [
    "df.head(5)"
   ]
  },
  {
   "cell_type": "code",
   "execution_count": null,
   "id": "28274e72-168a-4c62-ac0c-fee6b8bfe230",
   "metadata": {},
   "outputs": [],
   "source": [
    "df.tail(5)"
   ]
  },
  {
   "cell_type": "markdown",
   "id": "b7b03243-bd5c-4f2a-9a6e-f3a34da7efd8",
   "metadata": {},
   "source": [
    "#### 2. Info and Shape of DataFrame"
   ]
  },
  {
   "cell_type": "code",
   "execution_count": null,
   "id": "7d86f865-d55e-4653-80aa-67489d8b84b5",
   "metadata": {},
   "outputs": [],
   "source": [
    "# shape of the DataFrame\n",
    "df.shape"
   ]
  },
  {
   "cell_type": "code",
   "execution_count": null,
   "id": "2fb68251-d64f-41ea-a9b6-f1646bc82402",
   "metadata": {},
   "outputs": [],
   "source": [
    "# info of the DataFrame\n",
    "df.info()"
   ]
  },
  {
   "cell_type": "markdown",
   "id": "c38ef848-8f47-48ec-abb4-433c337447fa",
   "metadata": {},
   "source": [
    "#### Inferences\n",
    "* There are 12 columns in this dataset.\n",
    "* Out of these 12 columns there are 4 numerical columns and others are object datatype columns.\n"
   ]
  },
  {
   "cell_type": "markdown",
   "id": "76143e3d-bb45-4ec6-ad1e-aafc1e9f9f3b",
   "metadata": {},
   "source": [
    "#### 3. Percentage of the missing values"
   ]
  },
  {
   "cell_type": "code",
   "execution_count": null,
   "id": "7971bd24-0c64-40ad-908a-e6c0f74441e2",
   "metadata": {},
   "outputs": [],
   "source": [
    "# finding the missing values\n",
    "df.isnull().sum()"
   ]
  },
  {
   "cell_type": "code",
   "execution_count": null,
   "id": "667434a5-4f9f-4f80-90f8-bac411a43d2c",
   "metadata": {},
   "outputs": [],
   "source": [
    "# percentage of missing values\n",
    "df['comments'].isnull().sum()/df['comments'].shape[0] *100\n",
    "# there are 158 missing values in which contributes 0.42 % of the comments column."
   ]
  },
  {
   "cell_type": "markdown",
   "id": "b779a4ed-bce2-447b-9d01-596a50fb5306",
   "metadata": {},
   "source": [
    "#### Dropping the comments column"
   ]
  },
  {
   "cell_type": "code",
   "execution_count": null,
   "id": "a9b11466-9d56-48b0-b636-7b1fad910c92",
   "metadata": {},
   "outputs": [],
   "source": [
    "df = df.drop(columns = 'comments')"
   ]
  },
  {
   "cell_type": "code",
   "execution_count": null,
   "id": "f6a6553a-168e-424c-912e-141497f90518",
   "metadata": {},
   "outputs": [],
   "source": [
    "df"
   ]
  },
  {
   "cell_type": "markdown",
   "id": "8e50c361-7040-4ce9-b3f6-694d872c8e8c",
   "metadata": {},
   "source": [
    "#### 4. Statistical summary"
   ]
  },
  {
   "cell_type": "code",
   "execution_count": null,
   "id": "e5763e33-5978-4d1d-9f4f-fc614e5319c5",
   "metadata": {},
   "outputs": [],
   "source": [
    "df.describe()"
   ]
  },
  {
   "cell_type": "code",
   "execution_count": null,
   "id": "d1f545b8-7714-4341-a78f-bf3de8b5b6e3",
   "metadata": {},
   "outputs": [],
   "source": [
    "df.nunique()"
   ]
  },
  {
   "cell_type": "markdown",
   "id": "895f431b-51a3-49f6-b2ed-cf8b81697399",
   "metadata": {},
   "source": [
    "#### 5. Convert datatype of column published_at from object to pandas datetime.\r"
   ]
  },
  {
   "cell_type": "code",
   "execution_count": null,
   "id": "10fe9e60-905f-4499-ae32-6ec19e400ba2",
   "metadata": {},
   "outputs": [],
   "source": [
    "df['published_at'].dtype"
   ]
  },
  {
   "cell_type": "code",
   "execution_count": null,
   "id": "c8a151e6-3e0e-4287-906b-99354a573cf5",
   "metadata": {},
   "outputs": [],
   "source": [
    "# converting object dtype to pandas datetime dtype\n",
    "df['published_at']= pd.to_datetime(df['published_at'])"
   ]
  },
  {
   "cell_type": "code",
   "execution_count": null,
   "id": "d01f9fa4-f653-48d2-9c0b-a1115bbe379c",
   "metadata": {},
   "outputs": [],
   "source": [
    "df['published_at']"
   ]
  },
  {
   "cell_type": "code",
   "execution_count": null,
   "id": "ef71eece-388f-40cb-b2d1-92940f62754c",
   "metadata": {},
   "outputs": [],
   "source": [
    "df['published_at'].info()"
   ]
  },
  {
   "cell_type": "markdown",
   "id": "aa0d352e-02b4-4a22-8a56-4ac2b0d641e5",
   "metadata": {},
   "source": [
    "#### 6. Create a new column as 'published_month' using the column published_at (display the months only)\r"
   ]
  },
  {
   "cell_type": "code",
   "execution_count": null,
   "id": "8f679c72-2bef-430a-af45-83274d8c8dc1",
   "metadata": {},
   "outputs": [],
   "source": [
    "df['published_month'] =df['published_at'].dt.month\n",
    "df['published_month']"
   ]
  },
  {
   "cell_type": "markdown",
   "id": "6ce22842-c32a-4088-b992-0c7dfc36a4e5",
   "metadata": {},
   "source": [
    "#### 7. Replace the numbers in the column published_month as names of the months i,e., 1 as 'Jan', 2 as 'Feb'\r\n",
    "and so on....."
   ]
  },
  {
   "cell_type": "code",
   "execution_count": null,
   "id": "c21ecf8a-9434-4239-8d7e-378773a152f6",
   "metadata": {},
   "outputs": [],
   "source": [
    "df['published_month'] = df['published_month'].replace({1:'Jan',2:'Feb',3:'Mar',4:'Apr',5:'May',6:'Jun',7:'Jul',8:'Aug',9:'Sep',10:'Oct',11:'Nov',12:'Dec'})"
   ]
  },
  {
   "cell_type": "code",
   "execution_count": null,
   "id": "35478998-1f4c-4b16-a244-1b893b7cc973",
   "metadata": {},
   "outputs": [],
   "source": [
    "df['published_month']"
   ]
  },
  {
   "cell_type": "markdown",
   "id": "5438663a-2958-443b-a906-f1136b8c8b63",
   "metadata": {},
   "source": [
    "#### 8. Find the number of videos published each month and arrange the months in a decreasing order based on the video count.."
   ]
  },
  {
   "cell_type": "code",
   "execution_count": null,
   "id": "c9984335-7618-455a-a9d3-70149741bdbc",
   "metadata": {},
   "outputs": [],
   "source": [
    "# number of videos published each month\n",
    "df.groupby(by ='published_month')['video_id'].count().sort_values(ascending =False)"
   ]
  },
  {
   "cell_type": "markdown",
   "id": "033ddfed-9cec-48c7-ae0d-061b4de7f269",
   "metadata": {},
   "source": [
    "#### 9. Find the count of unique video_id, channel_id and channel_title."
   ]
  },
  {
   "cell_type": "code",
   "execution_count": null,
   "id": "9ef37aab-6e66-469d-8721-c510acf1d841",
   "metadata": {},
   "outputs": [],
   "source": [
    "# count of unique video_id\n",
    "pd.DataFrame(df['video_id'].value_counts())"
   ]
  },
  {
   "cell_type": "code",
   "execution_count": null,
   "id": "1b26ed0c-6926-451d-a970-3270cb5ddd52",
   "metadata": {},
   "outputs": [],
   "source": [
    "# count of  channel_id\n",
    "pd.DataFrame(df['channel_id'].value_counts())"
   ]
  },
  {
   "cell_type": "code",
   "execution_count": null,
   "id": "bcfb7ed7-b0f5-4446-8431-f5e4e8f437b7",
   "metadata": {
    "scrolled": true
   },
   "outputs": [],
   "source": [
    "# count of channel_title\n",
    "pd.DataFrame(df['channel_title'].value_counts())"
   ]
  },
  {
   "cell_type": "markdown",
   "id": "ee0ddac4-ba48-4dc3-8a75-d6ffb30ab7bf",
   "metadata": {},
   "source": [
    "#### 10. Find the top10 channel names having the highest number of videos in the dataset and the bottom10 having lowest number of videos..."
   ]
  },
  {
   "cell_type": "code",
   "execution_count": null,
   "id": "ae37e57f-97b7-4e27-b8cd-309fdf5d72e5",
   "metadata": {},
   "outputs": [],
   "source": [
    "# Top 10 having more video count\n",
    "df.groupby(by='channel_title')['video_id'].count().sort_values(ascending = False).head(10)"
   ]
  },
  {
   "cell_type": "code",
   "execution_count": null,
   "id": "521ac6bd-df6f-4711-8821-708233b9856e",
   "metadata": {},
   "outputs": [],
   "source": [
    "# Bottom 10 having less video count\n",
    "df.groupby(by='channel_title')['video_id'].count().sort_values(ascending = True).head(10)"
   ]
  },
  {
   "cell_type": "markdown",
   "id": "0ad694de-f644-4eb1-9984-a5b11f0a958e",
   "metadata": {},
   "source": [
    "#### 11. Find the title of the video which has the maximum number of likes and the title of the video having minimum likes and write your inferences.."
   ]
  },
  {
   "cell_type": "code",
   "execution_count": null,
   "id": "2652af1e-8a76-4434-8aac-238d4f278b88",
   "metadata": {},
   "outputs": [],
   "source": [
    "#  title of the video which has the maximum number of likes\n",
    "df.groupby(by='title')['likes'].sum().sort_values(ascending = False).head(1)\n",
    "\n",
    "# 'BTS () 'Dynamite' Official MV' has the maximum number of likes"
   ]
  },
  {
   "cell_type": "code",
   "execution_count": null,
   "id": "f1a3d97e-427d-4b5a-99fc-f4de1eadaecf",
   "metadata": {},
   "outputs": [],
   "source": [
    "#  title of the video which has the minimum number of likes\n",
    "df.groupby(by='title')['likes'].sum().sort_values(ascending = True).head(1)\n",
    "\n",
    "# 'Kim Kardashian's Must-See Moments on \"Saturday Night Live\" | E! News' has the least number of likes"
   ]
  },
  {
   "cell_type": "markdown",
   "id": "8c68d17b-41cf-4274-88a6-2e7b3eb20a95",
   "metadata": {},
   "source": [
    "#### 12. Find the title of the video which has the maximum number of dislikes and the title of the video having minimum dislikes and write your inferences.\r"
   ]
  },
  {
   "cell_type": "code",
   "execution_count": null,
   "id": "f63a1252-476d-4369-ad1c-93cdd4cb015c",
   "metadata": {},
   "outputs": [],
   "source": [
    "# title of the video which has the maximum number of dislikes\n",
    "df.groupby(by='title')['dislikes'].sum().sort_values(ascending = False).head(1)\n",
    "\n",
    "#  'Cuties | Official Trailer | Netflix' has more number of dislikes"
   ]
  },
  {
   "cell_type": "code",
   "execution_count": null,
   "id": "0b863e36-0d6d-4b64-8144-a4ff233aa761",
   "metadata": {},
   "outputs": [],
   "source": [
    "# title of the video which has the minimum number of dislikes\n",
    "df.groupby(by='title')['dislikes'].sum().sort_values(ascending = True).head(1)\n",
    "\n",
    "# 'Kim Kardashian's Must-See Moments on \"Saturday Night Live\" | E! News' has the the least number of dislikes. "
   ]
  },
  {
   "cell_type": "markdown",
   "id": "29f83fde-42ad-48b5-abdc-1508da924774",
   "metadata": {},
   "source": [
    "#### 13. Does the number of views have any effect on how many people disliked the video? Support your answer with a metric and a plot."
   ]
  },
  {
   "cell_type": "code",
   "execution_count": null,
   "id": "5e2969b8-54f2-4ca2-8c2f-bc3ab5565d60",
   "metadata": {},
   "outputs": [],
   "source": [
    "df.columns"
   ]
  },
  {
   "cell_type": "code",
   "execution_count": null,
   "id": "54b5879a-c649-432c-98f9-e7fc6c69490e",
   "metadata": {},
   "outputs": [],
   "source": [
    "# finding the correlation\n",
    "correlation = df['view_count'].corr(df['dislikes'])\n",
    "print(f'The correlation coefficient :',correlation )"
   ]
  },
  {
   "cell_type": "code",
   "execution_count": null,
   "id": "b4d6a7d3-6382-4f32-9cd5-d46fbf278323",
   "metadata": {},
   "outputs": [],
   "source": [
    "# plotting the relation\n",
    "plt.figure(figsize=(8,4))\n",
    "plt.scatter(x=df['view_count'],y=df['dislikes'])\n",
    "plt.xlabel('Number of views')\n",
    "plt.ylabel('Number of dislikes')\n",
    "plt.title('Number of views Vs Number of dislikes')\n",
    "plt.show()"
   ]
  },
  {
   "cell_type": "markdown",
   "id": "ba3c7d9a-5e71-4e39-b37e-271d7b7bc4d1",
   "metadata": {},
   "source": [
    "#### This indicates that there is a linear relationship between viewcount and dislikes."
   ]
  },
  {
   "cell_type": "markdown",
   "id": "7f4594ab-957b-49bc-b2a7-cdd19774e2b3",
   "metadata": {},
   "source": [
    "#### 14. Display all the information about the videos that were published in January, and mention the count of videos that were published in January.."
   ]
  },
  {
   "cell_type": "code",
   "execution_count": null,
   "id": "04dceff5-1434-46cd-9709-e900578eb95e",
   "metadata": {},
   "outputs": [],
   "source": [
    "df.columns"
   ]
  },
  {
   "cell_type": "code",
   "execution_count": 64,
   "id": "78f4c45e-07b8-49e6-bfe7-96eb2d93fb64",
   "metadata": {},
   "outputs": [
    {
     "data": {
      "text/html": [
       "<div>\n",
       "<style scoped>\n",
       "    .dataframe tbody tr th:only-of-type {\n",
       "        vertical-align: middle;\n",
       "    }\n",
       "\n",
       "    .dataframe tbody tr th {\n",
       "        vertical-align: top;\n",
       "    }\n",
       "\n",
       "    .dataframe thead th {\n",
       "        text-align: right;\n",
       "    }\n",
       "</style>\n",
       "<table border=\"1\" class=\"dataframe\">\n",
       "  <thead>\n",
       "    <tr style=\"text-align: right;\">\n",
       "      <th></th>\n",
       "      <th>video_id</th>\n",
       "    </tr>\n",
       "    <tr>\n",
       "      <th>published_month</th>\n",
       "      <th></th>\n",
       "    </tr>\n",
       "  </thead>\n",
       "  <tbody>\n",
       "    <tr>\n",
       "      <th>Jan</th>\n",
       "      <td>2108</td>\n",
       "    </tr>\n",
       "  </tbody>\n",
       "</table>\n",
       "</div>"
      ],
      "text/plain": [
       "                 video_id\n",
       "published_month          \n",
       "Jan                  2108"
      ]
     },
     "execution_count": 64,
     "metadata": {},
     "output_type": "execute_result"
    }
   ],
   "source": [
    "pd.DataFrame(df.groupby(by='published_month')['video_id'].count().sort_values())[1:2]\n",
    "\n",
    " # The number of videos published in January month = 2108"
   ]
  },
  {
   "cell_type": "code",
   "execution_count": 61,
   "id": "86bea506-f063-42c3-aabd-22693902b877",
   "metadata": {},
   "outputs": [
    {
     "data": {
      "text/html": [
       "<div>\n",
       "<style scoped>\n",
       "    .dataframe tbody tr th:only-of-type {\n",
       "        vertical-align: middle;\n",
       "    }\n",
       "\n",
       "    .dataframe tbody tr th {\n",
       "        vertical-align: top;\n",
       "    }\n",
       "\n",
       "    .dataframe thead th {\n",
       "        text-align: right;\n",
       "    }\n",
       "</style>\n",
       "<table border=\"1\" class=\"dataframe\">\n",
       "  <thead>\n",
       "    <tr style=\"text-align: right;\">\n",
       "      <th></th>\n",
       "      <th>comment_count</th>\n",
       "      <th>dislikes</th>\n",
       "      <th>likes</th>\n",
       "      <th>view_count</th>\n",
       "    </tr>\n",
       "    <tr>\n",
       "      <th>published_month</th>\n",
       "      <th></th>\n",
       "      <th></th>\n",
       "      <th></th>\n",
       "      <th></th>\n",
       "    </tr>\n",
       "  </thead>\n",
       "  <tbody>\n",
       "    <tr>\n",
       "      <th>Jan</th>\n",
       "      <td>8923.385199</td>\n",
       "      <td>3614.568311</td>\n",
       "      <td>131502.994307</td>\n",
       "      <td>4.976449e+06</td>\n",
       "    </tr>\n",
       "  </tbody>\n",
       "</table>\n",
       "</div>"
      ],
      "text/plain": [
       "                 comment_count     dislikes          likes    view_count\n",
       "published_month                                                         \n",
       "Jan                8923.385199  3614.568311  131502.994307  4.976449e+06"
      ]
     },
     "execution_count": 61,
     "metadata": {},
     "output_type": "execute_result"
    }
   ],
   "source": [
    "pd.pivot_table(df,index=['published_month'],values=['likes','dislikes','view_count','comment_count'],aggfunc='mean')[4:5]"
   ]
  },
  {
   "cell_type": "code",
   "execution_count": 62,
   "id": "08057996-361c-448a-9a22-9f71a2991941",
   "metadata": {},
   "outputs": [
    {
     "data": {
      "text/plain": [
       "comment_count    8.923385e+03\n",
       "dislikes         3.614568e+03\n",
       "likes            1.315030e+05\n",
       "view_count       4.976449e+06\n",
       "Name: Jan, dtype: float64"
      ]
     },
     "execution_count": 62,
     "metadata": {},
     "output_type": "execute_result"
    }
   ],
   "source": [
    "# Information on videos published in January month\n",
    "\n",
    "pd.pivot_table(df,index=['published_month'],values=['likes','dislikes','view_count','comment_count'],aggfunc='mean').loc['Jan']"
   ]
  },
  {
   "cell_type": "code",
   "execution_count": null,
   "id": "fe33d63a-986f-4cd5-812a-8d8eefe38b35",
   "metadata": {},
   "outputs": [],
   "source": []
  }
 ],
 "metadata": {
  "kernelspec": {
   "display_name": "Python 3 (ipykernel)",
   "language": "python",
   "name": "python3"
  },
  "language_info": {
   "codemirror_mode": {
    "name": "ipython",
    "version": 3
   },
   "file_extension": ".py",
   "mimetype": "text/x-python",
   "name": "python",
   "nbconvert_exporter": "python",
   "pygments_lexer": "ipython3",
   "version": "3.11.7"
  }
 },
 "nbformat": 4,
 "nbformat_minor": 5
}
